{
  "nbformat": 4,
  "nbformat_minor": 0,
  "metadata": {
    "colab": {
      "provenance": [],
      "include_colab_link": true
    },
    "kernelspec": {
      "name": "python3",
      "display_name": "Python 3"
    },
    "language_info": {
      "name": "python"
    }
  },
  "cells": [
    {
      "cell_type": "markdown",
      "metadata": {
        "id": "view-in-github",
        "colab_type": "text"
      },
      "source": [
        "<a href=\"https://colab.research.google.com/github/qcguerzon01/CPE-009A-OOP/blob/main/demo1.ipynb\" target=\"_parent\"><img src=\"https://colab.research.google.com/assets/colab-badge.svg\" alt=\"Open In Colab\"/></a>"
      ]
    },
    {
      "cell_type": "markdown",
      "source": [
        "#Python Indentation\n",
        "\n"
      ],
      "metadata": {
        "id": "Z7kD3eLKH4IJ"
      }
    },
    {
      "cell_type": "code",
      "source": [
        "if 5>2:\n",
        "  print(\"Five is greater than two!\")"
      ],
      "metadata": {
        "colab": {
          "base_uri": "https://localhost:8080/"
        },
        "id": "i0LgidUbIYNc",
        "outputId": "79e1d218-ce55-4785-dac4-8c354b9144b4"
      },
      "execution_count": null,
      "outputs": [
        {
          "output_type": "stream",
          "name": "stdout",
          "text": [
            "Five is greater than two!\n"
          ]
        }
      ]
    },
    {
      "cell_type": "markdown",
      "source": [
        "#Python Comments\n",
        "comments starts with a #"
      ],
      "metadata": {
        "id": "sFL8Y9SSJy7p"
      }
    },
    {
      "cell_type": "code",
      "source": [
        "if 5>2:\n",
        "  print(\"Five is greater than two!\") #compare 5 & 2"
      ],
      "metadata": {
        "colab": {
          "base_uri": "https://localhost:8080/"
        },
        "id": "7aC9JOozJ4Tp",
        "outputId": "999d63ac-760b-42cc-f478-2c0b5ca3e8ef"
      },
      "execution_count": null,
      "outputs": [
        {
          "output_type": "stream",
          "name": "stdout",
          "text": [
            "Five is greater than two!\n"
          ]
        }
      ]
    },
    {
      "cell_type": "markdown",
      "source": [
        "#Variable Naming Conventions\n",
        "short name/descriptive names\n",
        "rules:\n",
        "-must start with a letter or underscore char\n",
        "-cannot start with num\n",
        "-can only contain alpha-numeric characters and underscores (A-z,0-9, and _)\n",
        "-case sensitive"
      ],
      "metadata": {
        "id": "oBK67sdpKvAz"
      }
    },
    {
      "cell_type": "markdown",
      "source": [
        "#Python Variable\n",
        "variables are containers for storing valiues"
      ],
      "metadata": {
        "id": "38VU1tinLdbd"
      }
    },
    {
      "cell_type": "code",
      "source": [
        "x=1 #this is a single variable w/ a value\n",
        "a,b=0,-1 #comma as seperator, a=0 and b=-1\n",
        "\n",
        "print (a)\n",
        "print (b)\n",
        "print (x)\n",
        "\n",
        "b=\":>\"\n",
        "print(b)\n"
      ],
      "metadata": {
        "colab": {
          "base_uri": "https://localhost:8080/"
        },
        "id": "sEpG1AaxLkJh",
        "outputId": "50bd1a06-fd79-479a-e194-0986ecb50282"
      },
      "execution_count": null,
      "outputs": [
        {
          "output_type": "stream",
          "name": "stdout",
          "text": [
            "0\n",
            "-1\n",
            "1\n",
            ":>\n"
          ]
        }
      ]
    },
    {
      "cell_type": "markdown",
      "source": [
        "#Python Casting\n"
      ],
      "metadata": {
        "id": "hgjTq8EfNdqb"
      }
    },
    {
      "cell_type": "code",
      "source": [
        "b=\"sally\"#type of string\n",
        "b=int(4)\n",
        "print(b)\n",
        "\n",
        "b=float(4)\n",
        "print(b)"
      ],
      "metadata": {
        "colab": {
          "base_uri": "https://localhost:8080/"
        },
        "id": "A5tYW02NNzAI",
        "outputId": "ded3d131-9870-47e0-b24d-9fb80a5a7a75"
      },
      "execution_count": null,
      "outputs": [
        {
          "output_type": "stream",
          "name": "stdout",
          "text": [
            "4\n",
            "4.0\n"
          ]
        }
      ]
    },
    {
      "cell_type": "markdown",
      "source": [
        "#Type() Function\n",
        "print out the data type"
      ],
      "metadata": {
        "id": "feZ3sPMkOzSQ"
      }
    },
    {
      "cell_type": "code",
      "source": [
        "x=5\n",
        "y=\"Jamie\"\n",
        "print(type(x))\n",
        "print(type(y))"
      ],
      "metadata": {
        "colab": {
          "base_uri": "https://localhost:8080/"
        },
        "id": "5MDW7GD-O4vi",
        "outputId": "20fdb5ee-1f06-4ba7-a3f9-dd70cd60f52f"
      },
      "execution_count": null,
      "outputs": [
        {
          "output_type": "stream",
          "name": "stdout",
          "text": [
            "<class 'int'>\n",
            "<class 'str'>\n"
          ]
        }
      ]
    },
    {
      "cell_type": "markdown",
      "source": [
        "#Double Quotes/ Single Quotes\n"
      ],
      "metadata": {
        "id": "awVCQEYTPPPY"
      }
    },
    {
      "cell_type": "code",
      "source": [
        "y=\"John\"\n",
        "y='John'\n",
        "\n",
        "print(y)\n",
        "print(y)"
      ],
      "metadata": {
        "colab": {
          "base_uri": "https://localhost:8080/"
        },
        "id": "SjfEvhE8PWSq",
        "outputId": "cc57b9a2-e63c-4860-81b4-911be9f12045"
      },
      "execution_count": null,
      "outputs": [
        {
          "output_type": "stream",
          "name": "stdout",
          "text": [
            "John\n",
            "John\n"
          ]
        }
      ]
    },
    {
      "cell_type": "markdown",
      "source": [
        "#Case Sensitive\n",
        "\n",
        "example;\n",
        "a=4\n",
        "A=\"Sally\"\n",
        "## A will not overwrite a"
      ],
      "metadata": {
        "id": "3W9R7IoAP7Vv"
      }
    },
    {
      "cell_type": "markdown",
      "source": [
        "#Multiple Variables\n"
      ],
      "metadata": {
        "id": "1zBnmPhzQPFY"
      }
    },
    {
      "cell_type": "code",
      "source": [
        "x,y,z=\"hi\",\"I'm\",\"Jamiee\"\n",
        "print(x)\n",
        "print(y)\n",
        "print(z)"
      ],
      "metadata": {
        "colab": {
          "base_uri": "https://localhost:8080/"
        },
        "id": "AMBZoVtlQUDv",
        "outputId": "0228464b-75c6-4441-a805-82c3cb8cd637"
      },
      "execution_count": null,
      "outputs": [
        {
          "output_type": "stream",
          "name": "stdout",
          "text": [
            "hi\n",
            "I'm\n",
            "Jamiee\n"
          ]
        }
      ]
    },
    {
      "cell_type": "markdown",
      "source": [
        "#One Value to Multiple Variable"
      ],
      "metadata": {
        "id": "wh8kwrOmQ8wr"
      }
    },
    {
      "cell_type": "code",
      "source": [
        "x=y=z=\"four\"\n",
        "print(x)\n",
        "print(y)\n",
        "print(z)"
      ],
      "metadata": {
        "colab": {
          "base_uri": "https://localhost:8080/"
        },
        "id": "kpw9fcAvRABg",
        "outputId": "cade0c1a-7ecd-44ef-a6bc-1b6fd6b30a16"
      },
      "execution_count": null,
      "outputs": [
        {
          "output_type": "stream",
          "name": "stdout",
          "text": [
            "four\n",
            "four\n",
            "four\n"
          ]
        }
      ]
    },
    {
      "cell_type": "markdown",
      "source": [
        "#Output Variable\n",
        "print is used to output variables and (+) is used to combine both text and variable"
      ],
      "metadata": {
        "id": "L26DBn9hRL83"
      }
    },
    {
      "cell_type": "code",
      "source": [
        "x=\"fun\"\n",
        "print(\"Python programming is \"+x)\n",
        "\n",
        "#other way\n",
        "\n",
        "x=\"Pythong is \"\n",
        "y=\"fun\"\n",
        "z=x+y\n",
        "print(z)"
      ],
      "metadata": {
        "colab": {
          "base_uri": "https://localhost:8080/"
        },
        "id": "KM_QEJmcRU3P",
        "outputId": "11154469-13bd-4e6c-bf67-39a966e4abee"
      },
      "execution_count": null,
      "outputs": [
        {
          "output_type": "stream",
          "name": "stdout",
          "text": [
            "Python programming is fun\n",
            "Pythong is fun\n"
          ]
        }
      ]
    },
    {
      "cell_type": "markdown",
      "source": [
        "#Arithmetic Operations\n",
        "\n",
        "+ addition \"+\"\n",
        "+ subtraction \"-\"\n",
        "+ multiplication \"*\"\n",
        "+ division \"/\"\n",
        "+ modulus(remainder) \"%\"\n",
        "\n"
      ],
      "metadata": {
        "id": "3l4MJH0cUo-v"
      }
    },
    {
      "cell_type": "code",
      "source": [
        "#examples\n",
        "x=5\n",
        "y=3\n",
        "print (x+y)\n",
        "\n",
        "x=5\n",
        "y=3\n",
        "sum=x+y\n",
        "sum"
      ],
      "metadata": {
        "colab": {
          "base_uri": "https://localhost:8080/"
        },
        "id": "ae_pu-tdVOYv",
        "outputId": "8f4aaf0d-8c4d-4f91-c591-3eb09b48428b"
      },
      "execution_count": null,
      "outputs": [
        {
          "output_type": "stream",
          "name": "stdout",
          "text": [
            "8\n"
          ]
        },
        {
          "output_type": "execute_result",
          "data": {
            "text/plain": [
              "8"
            ]
          },
          "metadata": {},
          "execution_count": 23
        }
      ]
    },
    {
      "cell_type": "markdown",
      "source": [
        "#Assigning Operators"
      ],
      "metadata": {
        "id": "p64ImFXRVx5H"
      }
    },
    {
      "cell_type": "code",
      "source": [
        "a,b,c=0,-1,6\n",
        "c%=3\n",
        "c"
      ],
      "metadata": {
        "colab": {
          "base_uri": "https://localhost:8080/"
        },
        "id": "fXjcexxvWFF5",
        "outputId": "059ded03-fac5-4aa6-9694-3fcbad5b6c7e"
      },
      "execution_count": null,
      "outputs": [
        {
          "output_type": "execute_result",
          "data": {
            "text/plain": [
              "0"
            ]
          },
          "metadata": {},
          "execution_count": 24
        }
      ]
    },
    {
      "cell_type": "markdown",
      "source": [
        "#Comparison Operators\n",
        "\n",
        "*"
      ],
      "metadata": {
        "id": "iqgYIi_KWZ6-"
      }
    },
    {
      "cell_type": "code",
      "source": [
        "x=1\n",
        "y=1\n",
        "\n",
        "x=y"
      ],
      "metadata": {
        "id": "UvmHZgNIWcqX"
      },
      "execution_count": null,
      "outputs": []
    },
    {
      "cell_type": "markdown",
      "source": [
        "#Logical Operators"
      ],
      "metadata": {
        "id": "zg16ujjGXJe4"
      }
    },
    {
      "cell_type": "code",
      "source": [
        "a,b,c=0,-1,5\n"
      ],
      "metadata": {
        "id": "C9XkwP3tXM-P"
      },
      "execution_count": null,
      "outputs": []
    },
    {
      "cell_type": "markdown",
      "source": [
        "#Identity Operators"
      ],
      "metadata": {
        "id": "fsWelVNyXexe"
      }
    },
    {
      "cell_type": "code",
      "source": [
        "a,b,c=0,-1,5\n",
        "a is a\n"
      ],
      "metadata": {
        "colab": {
          "base_uri": "https://localhost:8080/"
        },
        "id": "WFVkxJ8rXpG2",
        "outputId": "75482b61-c55c-4139-a6bf-c588051fef65"
      },
      "execution_count": null,
      "outputs": [
        {
          "output_type": "execute_result",
          "data": {
            "text/plain": [
              "True"
            ]
          },
          "metadata": {},
          "execution_count": 29
        }
      ]
    },
    {
      "cell_type": "markdown",
      "source": [
        "#Bitwise Operators\n"
      ],
      "metadata": {
        "id": "DBwmAMhxackV"
      }
    },
    {
      "cell_type": "code",
      "source": [
        "1^2"
      ],
      "metadata": {
        "colab": {
          "base_uri": "https://localhost:8080/"
        },
        "id": "OMEAIwTHaha2",
        "outputId": "41d82ce8-284d-427a-b2cb-ee1f79cb7598"
      },
      "execution_count": null,
      "outputs": [
        {
          "output_type": "execute_result",
          "data": {
            "text/plain": [
              "3"
            ]
          },
          "metadata": {},
          "execution_count": 30
        }
      ]
    }
  ]
}