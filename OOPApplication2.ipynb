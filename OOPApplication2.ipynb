{
  "nbformat": 4,
  "nbformat_minor": 0,
  "metadata": {
    "colab": {
      "provenance": [],
      "include_colab_link": true
    },
    "kernelspec": {
      "name": "python3",
      "display_name": "Python 3"
    },
    "language_info": {
      "name": "python"
    }
  },
  "cells": [
    {
      "cell_type": "markdown",
      "metadata": {
        "id": "view-in-github",
        "colab_type": "text"
      },
      "source": [
        "<a href=\"https://colab.research.google.com/github/qcguerzon01/CPE-009A-OOP/blob/main/OOPApplication2.ipynb\" target=\"_parent\"><img src=\"https://colab.research.google.com/assets/colab-badge.svg\" alt=\"Open In Colab\"/></a>"
      ]
    },
    {
      "cell_type": "code",
      "execution_count": null,
      "metadata": {
        "colab": {
          "base_uri": "https://localhost:8080/"
        },
        "id": "hJBdccMUsazZ",
        "outputId": "a9743a68-bf7f-45b1-c831-b673fa885ac6"
      },
      "outputs": [
        {
          "output_type": "stream",
          "name": "stdout",
          "text": [
            "Triangles have 3 sides\n",
            "None\n",
            "Quadrilaterals have 4 sides\n",
            "None\n",
            "Pentagons have 5 sides\n",
            "None\n",
            "Hexagons have 6 sides\n",
            "None\n",
            "Heptagons have 7 sides\n",
            "None\n"
          ]
        }
      ],
      "source": [
        "class Shape:\n",
        "  def __init__(self,sides):\n",
        "    self._sides= sides\n",
        "\n",
        "class Triangle(Shape):\n",
        "  def Output(self):\n",
        "      print(\"Triangles have 3 sides\")\n",
        "\n",
        "class Quadrilateral(Shape):\n",
        "  def Output(self):\n",
        "      print(\"Quadrilaterals have 4 sides\")\n",
        "\n",
        "class Pentagon(Shape):\n",
        "  def Output(self):\n",
        "      print(\"Pentagons have 5 sides\")\n",
        "\n",
        "class Hexagon(Shape):\n",
        "  def Output(self):\n",
        "      print(\"Hexagons have 6 sides\")\n",
        "\n",
        "class Heptagon(Shape):\n",
        "  def Output(self):\n",
        "      print(\"Heptagons have 7 sides\")\n",
        "\n",
        "tri= Triangle(Shape)\n",
        "print(tri.Output())\n",
        "\n",
        "quad= Quadrilateral(Shape)\n",
        "print(quad.Output())\n",
        "\n",
        "pen= Pentagon(Shape)\n",
        "print(pen.Output())\n",
        "\n",
        "hex= Hexagon(Shape)\n",
        "print(hex.Output())\n",
        "\n",
        "hep= Heptagon(Shape)\n",
        "print(hep.Output())"
      ]
    }
  ]
}