{
  "nbformat": 4,
  "nbformat_minor": 0,
  "metadata": {
    "colab": {
      "provenance": [],
      "include_colab_link": true
    },
    "kernelspec": {
      "name": "python3",
      "display_name": "Python 3"
    },
    "language_info": {
      "name": "python"
    }
  },
  "cells": [
    {
      "cell_type": "markdown",
      "metadata": {
        "id": "view-in-github",
        "colab_type": "text"
      },
      "source": [
        "<a href=\"https://colab.research.google.com/github/qcguerzon01/CPE-009A-OOP/blob/main/Guerzon%2CChristian_D__PrelimExam.ipynb\" target=\"_parent\"><img src=\"https://colab.research.google.com/assets/colab-badge.svg\" alt=\"Open In Colab\"/></a>"
      ]
    },
    {
      "cell_type": "code",
      "source": [
        "fullname = input (\"Enter your fullname: \")\n",
        "age = input(\"Enter your age: \")\n",
        "print(\"Fullname and age is: \"+ fullname +\" \"+ \"and\"+\" \"+ age)"
      ],
      "metadata": {
        "colab": {
          "base_uri": "https://localhost:8080/"
        },
        "id": "xcdi_orMvEDZ",
        "outputId": "30602a2d-0340-4f90-9879-4bb8077d92d1"
      },
      "execution_count": null,
      "outputs": [
        {
          "output_type": "stream",
          "name": "stdout",
          "text": [
            "Enter your fullname: Zachary James Hernandez\n",
            "Enter your age: 18\n",
            "Fullname and age is: Zachary James Hernandez and 18\n"
          ]
        }
      ]
    }
  ]
}