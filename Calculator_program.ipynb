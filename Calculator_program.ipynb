{
  "nbformat": 4,
  "nbformat_minor": 0,
  "metadata": {
    "colab": {
      "provenance": [],
      "authorship_tag": "ABX9TyNFyZ+3eezFHplQDGSCTr1W",
      "include_colab_link": true
    },
    "kernelspec": {
      "name": "python3",
      "display_name": "Python 3"
    },
    "language_info": {
      "name": "python"
    }
  },
  "cells": [
    {
      "cell_type": "markdown",
      "metadata": {
        "id": "view-in-github",
        "colab_type": "text"
      },
      "source": [
        "<a href=\"https://colab.research.google.com/github/qcguerzon01/CPE-009A-OOP/blob/main/Calculator_program.ipynb\" target=\"_parent\"><img src=\"https://colab.research.google.com/assets/colab-badge.svg\" alt=\"Open In Colab\"/></a>"
      ]
    },
    {
      "cell_type": "markdown",
      "source": [
        "Calculator"
      ],
      "metadata": {
        "id": "WtZQ9CsOSVTp"
      }
    },
    {
      "cell_type": "code",
      "source": [
        "\n",
        "\n",
        "class MyWindow:\n",
        "    def __init__(self, window):\n",
        "        self.lbl = Label(window, text=\"Simple Calculator\")\n",
        "        self.lbl.place(x=75, y=65)\n",
        "\n",
        "        self.lbl1 = Label(window, text=\"Number 1:\", fg=\"blue\")\n",
        "        self.lbl1.place(x=80, y=100)\n",
        "        self.txt1 = Entry(window, bd=2)\n",
        "        self.txt1.place(x=150, y=100)\n",
        "\n",
        "        self.lbl2 = Label(window, text=\"Number 2:\", fg=\"orange\")\n",
        "        self.lbl2.place(x=80, y=150)\n",
        "        self.txt2 = Entry(window, bd=2)\n",
        "        self.txt2.place(x=150, y=150)\n",
        "\n",
        "        self.btn_add = Button(window, text=\"Add\", command=self.add)\n",
        "        self.btn_add.place(x=80, y=200)\n",
        "\n",
        "        self.btn_sub = Button(window, text=\"Subtract\", command=self.sub)\n",
        "        self.btn_sub.place(x=120, y=200)\n",
        "\n",
        "        self.btn_mul = Button(window, text=\"Multiply\", command=self.mul)\n",
        "        self.btn_mul.place(x=180, y=200)\n",
        "\n",
        "        self.btn_div = Button(window, text=\"Divide\", command=self.div)\n",
        "        self.btn_div.place(x=240, y=200)\n",
        "\n",
        "        self.lbl3 = Label(window, text=\"Answer:\")\n",
        "        self.lbl3.place(x=80, y=250)\n",
        "        self.txt3 = Entry(window, bd=2)\n",
        "        self.txt3.place(x=150, y=250)\n",
        "\n",
        "    def add(self):\n",
        "        self.txt3.delete(0, 'end')\n",
        "        num1 = int(self.txt1.get())\n",
        "        num2 = int(self.txt2.get())\n",
        "        result = num1 + num2\n",
        "        self.txt3.insert(END, str(result))\n",
        "\n",
        "    def sub(self):\n",
        "        self.txt3.delete(0, 'end')\n",
        "        num1 = int(self.txt1.get())\n",
        "        num2 = int(self.txt2.get())\n",
        "        result = num1 - num2\n",
        "        self.txt3.insert(END, str(result))\n",
        "\n",
        "    def mul(self):\n",
        "        self.txt3.delete(0, 'end')\n",
        "        num1 = int(self.txt1.get())\n",
        "        num2 = int(self.txt2.get())\n",
        "        result = num1 * num2\n",
        "        self.txt3.insert(END, str(result))\n",
        "\n",
        "    def div(self):\n",
        "        self.txt3.delete(0, 'end')\n",
        "        num1 = int(self.txt1.get())\n",
        "        num2 = int(self.txt2.get())\n",
        "        if num2 != 0:\n",
        "            result = num1 / num2\n",
        "            self.txt3.insert(END, str(result))\n",
        "        else:\n",
        "            self.txt3.insert(END, \"Error: Division by zero\")\n",
        "\n",
        "window = Tk()\n",
        "mywin = MyWindow(window)\n",
        "window.geometry(\"400x400+10+20\")\n",
        "window.title(\"Python Project\")\n",
        "window.mainloop()"
      ],
      "metadata": {
        "colab": {
          "base_uri": "https://localhost:8080/",
          "height": 211
        },
        "id": "I6hfi9B7Rywr",
        "outputId": "18913a86-e3b1-4922-d4f2-901aa3a7c6ba"
      },
      "execution_count": 1,
      "outputs": [
        {
          "output_type": "error",
          "ename": "NameError",
          "evalue": "name 'Tk' is not defined",
          "traceback": [
            "\u001b[0;31m---------------------------------------------------------------------------\u001b[0m",
            "\u001b[0;31mNameError\u001b[0m                                 Traceback (most recent call last)",
            "\u001b[0;32m<ipython-input-1-6d3e42dc5398>\u001b[0m in \u001b[0;36m<cell line: 64>\u001b[0;34m()\u001b[0m\n\u001b[1;32m     62\u001b[0m             \u001b[0mself\u001b[0m\u001b[0;34m.\u001b[0m\u001b[0mtxt3\u001b[0m\u001b[0;34m.\u001b[0m\u001b[0minsert\u001b[0m\u001b[0;34m(\u001b[0m\u001b[0mEND\u001b[0m\u001b[0;34m,\u001b[0m \u001b[0;34m\"Error: Division by zero\"\u001b[0m\u001b[0;34m)\u001b[0m\u001b[0;34m\u001b[0m\u001b[0;34m\u001b[0m\u001b[0m\n\u001b[1;32m     63\u001b[0m \u001b[0;34m\u001b[0m\u001b[0m\n\u001b[0;32m---> 64\u001b[0;31m \u001b[0mwindow\u001b[0m \u001b[0;34m=\u001b[0m \u001b[0mTk\u001b[0m\u001b[0;34m(\u001b[0m\u001b[0;34m)\u001b[0m\u001b[0;34m\u001b[0m\u001b[0;34m\u001b[0m\u001b[0m\n\u001b[0m\u001b[1;32m     65\u001b[0m \u001b[0mmywin\u001b[0m \u001b[0;34m=\u001b[0m \u001b[0mMyWindow\u001b[0m\u001b[0;34m(\u001b[0m\u001b[0mwindow\u001b[0m\u001b[0;34m)\u001b[0m\u001b[0;34m\u001b[0m\u001b[0;34m\u001b[0m\u001b[0m\n\u001b[1;32m     66\u001b[0m \u001b[0mwindow\u001b[0m\u001b[0;34m.\u001b[0m\u001b[0mgeometry\u001b[0m\u001b[0;34m(\u001b[0m\u001b[0;34m\"400x400+10+20\"\u001b[0m\u001b[0;34m)\u001b[0m\u001b[0;34m\u001b[0m\u001b[0;34m\u001b[0m\u001b[0m\n",
            "\u001b[0;31mNameError\u001b[0m: name 'Tk' is not defined"
          ]
        }
      ]
    }
  ]
}