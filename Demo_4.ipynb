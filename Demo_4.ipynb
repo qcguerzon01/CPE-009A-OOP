{
  "nbformat": 4,
  "nbformat_minor": 0,
  "metadata": {
    "colab": {
      "provenance": [],
      "include_colab_link": true
    },
    "kernelspec": {
      "name": "python3",
      "display_name": "Python 3"
    },
    "language_info": {
      "name": "python"
    }
  },
  "cells": [
    {
      "cell_type": "markdown",
      "metadata": {
        "id": "view-in-github",
        "colab_type": "text"
      },
      "source": [
        "<a href=\"https://colab.research.google.com/github/qcguerzon01/CPE-009A-OOP/blob/main/Demo_4.ipynb\" target=\"_parent\"><img src=\"https://colab.research.google.com/assets/colab-badge.svg\" alt=\"Open In Colab\"/></a>"
      ]
    },
    {
      "cell_type": "code",
      "execution_count": null,
      "metadata": {
        "colab": {
          "base_uri": "https://localhost:8080/"
        },
        "id": "n6QVJsNeVxdu",
        "outputId": "a75f2661-3ab4-4fa3-b372-c45fcf8a2414"
      },
      "outputs": [
        {
          "output_type": "stream",
          "name": "stdout",
          "text": [
            "True\n",
            "True\n",
            "False\n",
            "False\n",
            "False\n",
            "False\n",
            "False\n",
            "False\n",
            "False\n"
          ]
        }
      ],
      "source": [
        "print(bool(\"Hello\"))\n",
        "print(bool(\"15\"))\n",
        "print(bool(False))\n",
        "print(bool(None))\n",
        "print(bool(0))\n",
        "print(bool(\"\"))\n",
        "print(bool(()))\n",
        "print(bool([]))\n",
        "print(bool({}))"
      ]
    },
    {
      "cell_type": "markdown",
      "source": [
        "#Functions can return a boolean\n"
      ],
      "metadata": {
        "id": "kV56lWRqaZU1"
      }
    },
    {
      "cell_type": "code",
      "source": [
        "def myFunction():\n",
        "  return False\n",
        "\n",
        "if myFunction():\n",
        "  print(\"YES!\")\n",
        "else:\n",
        "  print(\"NO!\")"
      ],
      "metadata": {
        "id": "InDT10elae-F",
        "colab": {
          "base_uri": "https://localhost:8080/"
        },
        "outputId": "6446fb29-c3ac-48aa-85a2-ecd8cb850809"
      },
      "execution_count": null,
      "outputs": [
        {
          "output_type": "stream",
          "name": "stdout",
          "text": [
            "NO!\n"
          ]
        }
      ]
    },
    {
      "cell_type": "markdown",
      "source": [
        "#Python Operators\n",
        "-used to perform operation on variables and values\n"
      ],
      "metadata": {
        "id": "of_nKOF9dZJ1"
      }
    },
    {
      "cell_type": "code",
      "source": [
        "print(10+5) #addition\n",
        "print(10-5) #subtraction\n",
        "print(10*5) #multiplication\n",
        "print(10/5) #division\n",
        "print(10%5) #remainder\n",
        "print(10//3) #floor division(integer, no remainder)\n",
        "print(10**2) #eponent"
      ],
      "metadata": {
        "colab": {
          "base_uri": "https://localhost:8080/"
        },
        "id": "0S0kOy6Kdh6m",
        "outputId": "77ab23ad-c05b-4075-a90d-4455c8988097"
      },
      "execution_count": null,
      "outputs": [
        {
          "output_type": "stream",
          "name": "stdout",
          "text": [
            "15\n",
            "5\n",
            "50\n",
            "2.0\n",
            "0\n",
            "3\n",
            "100\n"
          ]
        }
      ]
    },
    {
      "cell_type": "markdown",
      "source": [
        "#Python Bitwise Operators\n",
        "-works on bits and performs bit-by-bit operation. Assume if a=60; and b=13; Now in binary format they will  be as follows\n",
        "\n",
        "a=0011 1100, decimal 60\n",
        "b=0000 1101, decimal 13\n",
        "\n",
        "#& Binary AND\n",
        "-Operator coies a bit to the result if it exists in both operands\n",
        "(ex.(a&b)\n",
        "\n",
        "#| Binary OR\n",
        "-It copies a bit, if it exists in either operand\n",
        "(ex.(a|b)\n",
        "\n",
        "#^ Binary XOR\n",
        "-It copies the bit, if it is set in one operand but not both\n",
        "(ex. (a^b)\n",
        "\n",
        "#~ Binary Ones Complement\n",
        "-It is unary and has the effect of 'flipping' bits."
      ],
      "metadata": {
        "id": "AhAA8PGsedR9"
      }
    },
    {
      "cell_type": "code",
      "source": [
        "a=60\n",
        "b=13\n",
        "\n",
        "print(a & b)\n",
        "print(a | b)\n",
        "print(a ^ b)\n",
        "a<<2\n"
      ],
      "metadata": {
        "colab": {
          "base_uri": "https://localhost:8080/"
        },
        "id": "Ds46FeFifZAl",
        "outputId": "b3abcd0f-fad3-42a4-c56b-aa98b77b4c74"
      },
      "execution_count": null,
      "outputs": [
        {
          "output_type": "stream",
          "name": "stdout",
          "text": [
            "12\n",
            "61\n",
            "49\n"
          ]
        },
        {
          "output_type": "execute_result",
          "data": {
            "text/plain": [
              "240"
            ]
          },
          "metadata": {},
          "execution_count": 30
        }
      ]
    },
    {
      "cell_type": "markdown",
      "source": [
        "#Python Assignment Operators\n",
        "*   x+=3 is the same as x = x+3\n",
        "*   x-= 3 is the same as x= x-3\n",
        "*   x*=3 is the same as x= x*3\n",
        "*   x/=3 is the same as x= x/3\n",
        "*   x%=3 is the same as x= x%3\n",
        "\n",
        "\n",
        "\n",
        "\n",
        "\n",
        "\n"
      ],
      "metadata": {
        "id": "N25Spbn5imlQ"
      }
    },
    {
      "cell_type": "code",
      "source": [
        "#Python Assignment Operators\n",
        "x=5\n",
        "x+=3 #same as x=x+3\n",
        "print(x)"
      ],
      "metadata": {
        "colab": {
          "base_uri": "https://localhost:8080/"
        },
        "id": "IOEbhELbjt1m",
        "outputId": "08179193-f4cd-4f4a-9821-866767802bb6"
      },
      "execution_count": null,
      "outputs": [
        {
          "output_type": "stream",
          "name": "stdout",
          "text": [
            "8\n"
          ]
        }
      ]
    },
    {
      "cell_type": "markdown",
      "source": [
        "#Logical Operator\n",
        "#and Logical AND\n",
        "-if both the operands are true then condition becomes true (example (a and b)is False)\n",
        "#or Logical OR\n",
        "-if any of the two operands are non-zero then condition becomes true (example: (a or b)is True)\n",
        "#not Logical NOT\n",
        "-Use to reverse the logical state of its operand (example:"
      ],
      "metadata": {
        "id": "VBpklSoXkVaO"
      }
    },
    {
      "cell_type": "markdown",
      "source": [
        "#Comparisoin Operator"
      ],
      "metadata": {
        "id": "g716mMdllqFl"
      }
    },
    {
      "cell_type": "code",
      "source": [
        "y=60\n",
        "z=13\n",
        "\n",
        "print(y>z) #True\n",
        "print(z>y) #False\n",
        "print(y>z and z>y) #False\n",
        "print(y>z or z>y)  #True"
      ],
      "metadata": {
        "colab": {
          "base_uri": "https://localhost:8080/"
        },
        "id": "mhEW4xm2ltA1",
        "outputId": "6eeed03a-6a36-4929-d5d1-769bb118a98d"
      },
      "execution_count": null,
      "outputs": [
        {
          "output_type": "stream",
          "name": "stdout",
          "text": [
            "True\n",
            "False\n",
            "False\n",
            "True\n"
          ]
        }
      ]
    },
    {
      "cell_type": "markdown",
      "source": [
        "#Identity Operator"
      ],
      "metadata": {
        "id": "YINXIJgJm7HV"
      }
    },
    {
      "cell_type": "code",
      "source": [],
      "metadata": {
        "id": "ERZVWvZxnCcc"
      },
      "execution_count": null,
      "outputs": []
    },
    {
      "cell_type": "markdown",
      "source": [
        "#For Loop\n"
      ],
      "metadata": {
        "id": "UTh6Y_yJqvx0"
      }
    },
    {
      "cell_type": "code",
      "source": [
        "week=[\"Sunday\", \"Monday\", \"Tuesday\",\"Wednesday\", \"Thursday\", \"Friday\", \"Saturday\"]\n",
        "for x in week:\n",
        "  print(x)"
      ],
      "metadata": {
        "colab": {
          "base_uri": "https://localhost:8080/"
        },
        "id": "GNvb__neqx1_",
        "outputId": "9e3a3a46-a3a1-44db-d922-da837b7ab61a"
      },
      "execution_count": null,
      "outputs": [
        {
          "output_type": "stream",
          "name": "stdout",
          "text": [
            "Sunday\n",
            "Monday\n",
            "Tuesday\n",
            "Wednesday\n",
            "Thursday\n",
            "Friday\n",
            "Saturday\n"
          ]
        }
      ]
    },
    {
      "cell_type": "code",
      "source": [
        "week=[\"Sunday\", \"Monday\", \"Tuesday\",\"Wednesday\", \"Thursday\", \"Friday\", \"Saturday\"]\n",
        "for x in week:\n",
        "  print(x)\n",
        "  if x==\"Thursday\":\n",
        "    break"
      ],
      "metadata": {
        "colab": {
          "base_uri": "https://localhost:8080/"
        },
        "id": "AFJxcO9Vr2_1",
        "outputId": "c24fbd42-409e-41f9-ed6f-6cf12957d4ed"
      },
      "execution_count": null,
      "outputs": [
        {
          "output_type": "stream",
          "name": "stdout",
          "text": [
            "Sunday\n",
            "Monday\n",
            "Tuesday\n",
            "Wednesday\n",
            "Thursday\n"
          ]
        }
      ]
    },
    {
      "cell_type": "code",
      "source": [
        "week=[\"Sunday\", \"Monday\", \"Tuesday\",\"Wednesday\", \"Thursday\", \"Friday\", \"Saturday\"]\n",
        "for x in week:\n",
        "  if x==\"Thursday\":\n",
        "    print(x)\n",
        "  else:\n",
        "    continue"
      ],
      "metadata": {
        "colab": {
          "base_uri": "https://localhost:8080/"
        },
        "id": "HoKQaahis9wW",
        "outputId": "44ae1caa-4402-4cb8-fef8-af51a9476b16"
      },
      "execution_count": null,
      "outputs": [
        {
          "output_type": "stream",
          "name": "stdout",
          "text": [
            "Thursday\n"
          ]
        }
      ]
    },
    {
      "cell_type": "code",
      "source": [
        "#Looping through a String\n",
        "for x in \"week\":\n",
        "  print(x)"
      ],
      "metadata": {
        "colab": {
          "base_uri": "https://localhost:8080/"
        },
        "id": "iMS832JtuP_Q",
        "outputId": "f8754042-926a-483c-ccec-e220c0975a96"
      },
      "execution_count": null,
      "outputs": [
        {
          "output_type": "stream",
          "name": "stdout",
          "text": [
            "w\n",
            "e\n",
            "e\n",
            "k\n"
          ]
        }
      ]
    },
    {
      "cell_type": "markdown",
      "source": [
        "#The range() Fimctopm\n",
        "*   To loop through a set of code a specfied number of times, we can use the range()function,\n",
        "*   The range() function returns a sequence of numbers, starting from 0 by default, and increments by 1(by default), and ends at a specified number.\n",
        "\n",
        "\n"
      ],
      "metadata": {
        "id": "oUt0Oo4mvZ38"
      }
    },
    {
      "cell_type": "code",
      "source": [
        "for x in range(6):\n",
        "  print(x)\n",
        "for x in range (2,6):\n",
        "  print(x)"
      ],
      "metadata": {
        "colab": {
          "base_uri": "https://localhost:8080/"
        },
        "id": "_Acv2g32wUS8",
        "outputId": "11e06d72-2aae-44b5-f854-0dea8b97a583"
      },
      "execution_count": null,
      "outputs": [
        {
          "output_type": "stream",
          "name": "stdout",
          "text": [
            "0\n",
            "1\n",
            "2\n",
            "3\n",
            "4\n",
            "5\n",
            "2\n",
            "3\n",
            "4\n",
            "5\n"
          ]
        }
      ]
    },
    {
      "cell_type": "code",
      "source": [
        "#Nested Loops\n",
        "adjective=[\"red\", \"big\", \"tasty\"]\n",
        "fruits=[\"apple\", \"banana\", \"cherry\"]\n",
        "\n",
        "for x in adjective:\n",
        "  for y in fruits:\n",
        "    print(x,y)"
      ],
      "metadata": {
        "colab": {
          "base_uri": "https://localhost:8080/"
        },
        "id": "MB0lZ7mvxIwc",
        "outputId": "8d61a75f-ade7-4456-9267-e99462b3b488"
      },
      "execution_count": null,
      "outputs": [
        {
          "output_type": "stream",
          "name": "stdout",
          "text": [
            "red apple\n",
            "red banana\n",
            "red cherry\n",
            "big apple\n",
            "big banana\n",
            "big cherry\n",
            "tasty apple\n",
            "tasty banana\n",
            "tasty cherry\n"
          ]
        }
      ]
    },
    {
      "cell_type": "markdown",
      "source": [
        "#While Loop\n"
      ],
      "metadata": {
        "id": "EhlRXOwPx4ZM"
      }
    },
    {
      "cell_type": "code",
      "source": [
        "i=1\n",
        "while i<6:\n",
        "  print(i)\n",
        "  i+=1#i=i+1"
      ],
      "metadata": {
        "colab": {
          "base_uri": "https://localhost:8080/"
        },
        "id": "A2kndxs8x6TN",
        "outputId": "7d676230-565b-4a28-c6e0-e8ccc824dd03"
      },
      "execution_count": null,
      "outputs": [
        {
          "output_type": "stream",
          "name": "stdout",
          "text": [
            "1\n",
            "2\n",
            "3\n",
            "4\n",
            "5\n"
          ]
        }
      ]
    },
    {
      "cell_type": "code",
      "source": [
        "i=1\n",
        "while i<6:\n",
        "  print(i)\n",
        "  if i==3:\n",
        "    break\n",
        "  i+=1"
      ],
      "metadata": {
        "colab": {
          "base_uri": "https://localhost:8080/"
        },
        "id": "6F002dVjyeKz",
        "outputId": "07f6b2cb-ff70-4eb8-9842-50c2afc54b8a"
      },
      "execution_count": null,
      "outputs": [
        {
          "output_type": "stream",
          "name": "stdout",
          "text": [
            "1\n",
            "2\n",
            "3\n"
          ]
        }
      ]
    },
    {
      "cell_type": "code",
      "source": [
        "#continue statement\n"
      ],
      "metadata": {
        "id": "phTVsp-dzcnE"
      },
      "execution_count": null,
      "outputs": []
    },
    {
      "cell_type": "code",
      "source": [
        "#The else statementwhile1<6\n",
        "\n",
        "i=1\n",
        "while i<6:\n",
        "  print(i)\n",
        "  i+=1\n",
        "else:\n",
        "  print(\"i is no longer less than 6\")"
      ],
      "metadata": {
        "colab": {
          "base_uri": "https://localhost:8080/"
        },
        "id": "QcJ5aDTT0m4t",
        "outputId": "d470b11f-5d14-43cd-9c8a-511da575c611"
      },
      "execution_count": null,
      "outputs": [
        {
          "output_type": "stream",
          "name": "stdout",
          "text": [
            "1\n",
            "2\n",
            "3\n",
            "4\n",
            "5\n",
            "i is no longer less than 6\n"
          ]
        }
      ]
    }
  ]
}