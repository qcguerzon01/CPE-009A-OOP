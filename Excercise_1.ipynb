{
  "nbformat": 4,
  "nbformat_minor": 0,
  "metadata": {
    "colab": {
      "provenance": [],
      "include_colab_link": true
    },
    "kernelspec": {
      "name": "python3",
      "display_name": "Python 3"
    },
    "language_info": {
      "name": "python"
    }
  },
  "cells": [
    {
      "cell_type": "markdown",
      "metadata": {
        "id": "view-in-github",
        "colab_type": "text"
      },
      "source": [
        "<a href=\"https://colab.research.google.com/github/qcguerzon01/CPE-009A-OOP/blob/main/Excercise_1.ipynb\" target=\"_parent\"><img src=\"https://colab.research.google.com/assets/colab-badge.svg\" alt=\"Open In Colab\"/></a>"
      ]
    },
    {
      "cell_type": "markdown",
      "source": [
        "#Excercise 1\n",
        "\n",
        "Create an algorithm and draw the necessary flowchart to solve for the perimeter and area of a rectangle"
      ],
      "metadata": {
        "id": "O2X-Zc9KTycF"
      }
    },
    {
      "cell_type": "markdown",
      "source": [
        "#Pseudocode\n",
        "1. Ask the user for dimentions of the rectangle (length and width)\n",
        "2. Compute  perimeter and output result\n",
        "3. Compute area and output result"
      ],
      "metadata": {
        "id": "dehwLbPXf6hB"
      }
    },
    {
      "cell_type": "code",
      "execution_count": null,
      "metadata": {
        "colab": {
          "base_uri": "https://localhost:8080/"
        },
        "id": "Tg01nPqfTaxW",
        "outputId": "eba29b58-cd1e-4d05-8488-c75b202cb462"
      },
      "outputs": [
        {
          "output_type": "stream",
          "name": "stdout",
          "text": [
            "Enter the rectangle's length\n",
            "5\n",
            "Enter the rectangle's  width\n",
            "2\n",
            "\n",
            "The perimeter is: \n",
            "14\n",
            "The area is: \n",
            "10\n"
          ]
        }
      ],
      "source": [
        "print(\"Enter the rectangle's length\")\n",
        "length= int(input())\n",
        "print(\"Enter the rectangle's  width\")\n",
        "width= int(input())\n",
        "\n",
        "print(\"\")\n",
        "pm=((2*length)+(2*width))\n",
        "print (\"The perimeter is: \")\n",
        "print (pm)\n",
        "\n",
        "ar=(length*width)\n",
        "print (\"The area is: \")\n",
        "print (ar)\n",
        "\n"
      ]
    }
  ]
}