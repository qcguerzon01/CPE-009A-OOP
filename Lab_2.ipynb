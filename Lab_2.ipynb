{
  "nbformat": 4,
  "nbformat_minor": 0,
  "metadata": {
    "colab": {
      "provenance": [],
      "include_colab_link": true
    },
    "kernelspec": {
      "name": "python3",
      "display_name": "Python 3"
    },
    "language_info": {
      "name": "python"
    }
  },
  "cells": [
    {
      "cell_type": "markdown",
      "metadata": {
        "id": "view-in-github",
        "colab_type": "text"
      },
      "source": [
        "<a href=\"https://colab.research.google.com/github/qcguerzon01/CPE-009A-OOP/blob/main/Lab_2.ipynb\" target=\"_parent\"><img src=\"https://colab.research.google.com/assets/colab-badge.svg\" alt=\"Open In Colab\"/></a>"
      ]
    },
    {
      "cell_type": "markdown",
      "source": [
        "\n",
        "#Task 1\n",
        "Write the Python equivalent code of the following C code:\n",
        "int main(){\n",
        "float base = 0, height = 0, area = 0;\n",
        "printf(“Enter the base of the triangle: “);\n",
        "scanf(“%f”, &base);\n",
        "printf(“Enter the height of the triangle: “);\n",
        "scanf(“%f”, &height);\n",
        "area = (1/2)*base*height;\n",
        "print(“The area of the triangle is %f”, area);\n",
        "\n",
        "\n"
      ],
      "metadata": {
        "id": "edrDNt0FpKOe"
      }
    },
    {
      "cell_type": "code",
      "source": [],
      "metadata": {
        "id": "JxzttSc4pQdR"
      },
      "execution_count": null,
      "outputs": []
    },
    {
      "cell_type": "markdown",
      "source": [
        "#Task 2\n",
        "Write a program that would convert Celsius to Fahrenheit given the formula: F = (C × 9/5) + 32"
      ],
      "metadata": {
        "id": "SYlBYQulpZUF"
      }
    },
    {
      "cell_type": "code",
      "source": [
        "print (\"Please enter the celsius that you would like to be converted into Farenheit :\")\n"
      ],
      "metadata": {
        "id": "aZh5nVQYpiP7"
      },
      "execution_count": null,
      "outputs": []
    },
    {
      "cell_type": "markdown",
      "source": [
        "#Task 3\n",
        "Write a program that can determine the distance between two points given the coordinates using the\n",
        "formula:\n",
        "𝒅 = √(𝒙𝟐 − 𝒙𝟏)𝟐 + (𝒚𝟐 − 𝒚𝟏)𝟐\n",
        "Hint/Rule: No library or package is needed to implement this equation."
      ],
      "metadata": {
        "id": "rxBjO4m7piwN"
      }
    }
  ]
}