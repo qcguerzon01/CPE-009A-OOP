{
  "nbformat": 4,
  "nbformat_minor": 0,
  "metadata": {
    "colab": {
      "provenance": [],
      "include_colab_link": true
    },
    "kernelspec": {
      "name": "python3",
      "display_name": "Python 3"
    },
    "language_info": {
      "name": "python"
    }
  },
  "cells": [
    {
      "cell_type": "markdown",
      "metadata": {
        "id": "view-in-github",
        "colab_type": "text"
      },
      "source": [
        "<a href=\"https://colab.research.google.com/github/qcguerzon01/CPE-009A-OOP/blob/main/Conceptsofoop2.ipynb\" target=\"_parent\"><img src=\"https://colab.research.google.com/assets/colab-badge.svg\" alt=\"Open In Colab\"/></a>"
      ]
    },
    {
      "cell_type": "markdown",
      "source": [
        "# Inheritance\n",
        "RegularPolygon= super class\n",
        "superclass has \"self.side\" and is inherited by the other classes (Square and EquiTriangle)"
      ],
      "metadata": {
        "id": "miXEbqnik4Pu"
      }
    },
    {
      "cell_type": "code",
      "execution_count": null,
      "metadata": {
        "colab": {
          "base_uri": "https://localhost:8080/"
        },
        "id": "C4f9wjdlfn9c",
        "outputId": "aa676396-49f5-4df7-aa19-0b882204bc8c"
      },
      "outputs": [
        {
          "output_type": "stream",
          "name": "stdout",
          "text": [
            "16\n",
            "6.928\n"
          ]
        }
      ],
      "source": [
        "class RegularPolygon:\n",
        "  def __init__(self,side):\n",
        "    self._side = side\n",
        "class Square(RegularPolygon): #inherits the properties of superclass RegularPolygon\n",
        "  def area(self):#defines the method/function to get the area of a square\n",
        "    return self._side * self._side\n",
        "class EquiTriangle(RegularPolygon):\n",
        "  def area(self):#defines the method/function to get the area of a equilateral triangle\n",
        "    return self._side * self._side * 0.433\n",
        "#remember: lowercase letter= object name, uppercase letter= class name\n",
        "\n",
        "square= Square(4) #creates and object name square\n",
        "print(square.area())#print the instance of the attribute of Square class\n",
        "\n",
        "equitriangle= EquiTriangle(4) #creates an object name equitriangle\n",
        "print(equitriangle.area()) #print the instance of the attribute of EquiTriangle class"
      ]
    },
    {
      "cell_type": "markdown",
      "source": [
        "#Mangling\n",
        "Encapsulation/information/behavior of inheritance, variables\n"
      ],
      "metadata": {
        "id": "oiaJOVGzm5Y-"
      }
    },
    {
      "cell_type": "markdown",
      "source": [
        "#Encapsulation using Mangling"
      ],
      "metadata": {
        "id": "CBwCwspArGaO"
      }
    },
    {
      "cell_type": "code",
      "source": [
        "class RegularPolygon:\n",
        "  def __init__(self,side):\n",
        "    self.__side = side\n",
        "  def area(self):\n",
        "    print(self.__side * self.__side)\n",
        "class Square(RegularPolygon):\n",
        "  pass\n",
        "\n",
        "square= Square(5)\n",
        "square.area()"
      ],
      "metadata": {
        "colab": {
          "base_uri": "https://localhost:8080/"
        },
        "id": "AhY-3AG3rCBv",
        "outputId": "e08732e3-8a22-4a60-ab59-9b03a04fb19f"
      },
      "execution_count": null,
      "outputs": [
        {
          "output_type": "stream",
          "name": "stdout",
          "text": [
            "25\n"
          ]
        }
      ]
    },
    {
      "cell_type": "markdown",
      "source": [
        "# Application 1\n",
        "\n",
        "\n",
        "1.   Create a Python program that displays the name of three students (Student 1, Student 2, and Student 3) and their term grade\n",
        "\n",
        "2.   Create a class name Person and attributes-std1, std2, std3, pre, mid, fin\n",
        "3. Compute the average of each term grade using Grade() method\n",
        "4. Information about student's grades must be hidden from others\n",
        "\n"
      ],
      "metadata": {
        "id": "QxruSGoztX0G"
      }
    },
    {
      "cell_type": "code",
      "source": [
        "class Person:\n",
        "  def __init__(self, pre, mid, fin):\n",
        "    self.__pre = pre\n",
        "    self.__mid = mid\n",
        "    self.__fin = fin\n",
        "  def Grade(self):\n",
        "    print((self.__pre + self.__mid + self.__fin)/3)\n",
        "\n",
        "class Student1(Person):\n",
        "  pass\n",
        "\n",
        "class Student2(Person):\n",
        "  pass\n",
        "\n",
        "class Student3(Person):\n",
        "  pass\n",
        "\n",
        "std1= Student1(50,50,50)\n",
        "std1.Grade()\n",
        "\n",
        "std2= Student1(90,90,90)\n",
        "std2.Grade()\n",
        "\n",
        "std3= Student1(30,30,30)\n",
        "std3.Grade()\n"
      ],
      "metadata": {
        "colab": {
          "base_uri": "https://localhost:8080/"
        },
        "id": "VgZF86MztXb3",
        "outputId": "caa17701-c203-4e39-a342-a576ddff0b32"
      },
      "execution_count": null,
      "outputs": [
        {
          "output_type": "stream",
          "name": "stdout",
          "text": [
            "50.0\n",
            "90.0\n",
            "30.0\n"
          ]
        }
      ]
    },
    {
      "cell_type": "code",
      "source": [],
      "metadata": {
        "id": "0InfYGS3r_zp"
      },
      "execution_count": null,
      "outputs": []
    }
  ]
}