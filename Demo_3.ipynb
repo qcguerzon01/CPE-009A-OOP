{
  "nbformat": 4,
  "nbformat_minor": 0,
  "metadata": {
    "colab": {
      "provenance": [],
      "include_colab_link": true
    },
    "kernelspec": {
      "name": "python3",
      "display_name": "Python 3"
    },
    "language_info": {
      "name": "python"
    }
  },
  "cells": [
    {
      "cell_type": "markdown",
      "metadata": {
        "id": "view-in-github",
        "colab_type": "text"
      },
      "source": [
        "<a href=\"https://colab.research.google.com/github/qcguerzon01/CPE-009A-OOP/blob/main/Demo_3.ipynb\" target=\"_parent\"><img src=\"https://colab.research.google.com/assets/colab-badge.svg\" alt=\"Open In Colab\"/></a>"
      ]
    },
    {
      "cell_type": "markdown",
      "source": [
        "#Conditional Statement\n",
        "execute sequentially when there is no condition around the statements. If you put some condition for a block statements, the execution flow may change based on the result evaluated by the condition.\n"
      ],
      "metadata": {
        "id": "N3AzydskNUiU"
      }
    },
    {
      "cell_type": "markdown",
      "source": [
        "#Control Structure\n",
        "Is a block of programming that analyzes variables and chooses a direction in which to go based on a given paramters\n",
        "\n",
        "*   Equals: a==b\n",
        "*   Not Equals: a!=b\n",
        "*   Less than: a<b\n",
        "*   Less than or equal to: a<=B\n",
        "*   Greater than: a>b\n",
        "*   Greater than or Equal to: a>=b\n",
        "\n"
      ],
      "metadata": {
        "id": "iLdZrr1JNc6D"
      }
    },
    {
      "cell_type": "markdown",
      "source": [
        "# 1. If Statement\n",
        "if conditipon:\n",
        "  block statement"
      ],
      "metadata": {
        "id": "WW-243jlN3U9"
      }
    },
    {
      "cell_type": "code",
      "execution_count": null,
      "metadata": {
        "colab": {
          "base_uri": "https://localhost:8080/"
        },
        "id": "gGJblA7SL5hE",
        "outputId": "371eef67-ad4f-482b-b16f-ab35abf23064"
      },
      "outputs": [
        {
          "output_type": "stream",
          "name": "stdout",
          "text": [
            "b is greater than a\n"
          ]
        }
      ],
      "source": [
        "a=12\n",
        "b=100\n",
        "if b>a:\n",
        "  print(\"b is greater than a\")"
      ]
    },
    {
      "cell_type": "markdown",
      "source": [
        "# Elif Statement\n",
        "\n",
        "if condition1:\n",
        "  block statements\n",
        "elif condition2:\n",
        "  block statement"
      ],
      "metadata": {
        "id": "afEH4k6JOF4e"
      }
    },
    {
      "cell_type": "code",
      "source": [
        "a=12\n",
        "b=12\n",
        "if b>a:\n",
        "  print(\"b is greater than a\")\n",
        "elif b==a:\n",
        "  print(\"b is equal to a\")"
      ],
      "metadata": {
        "colab": {
          "base_uri": "https://localhost:8080/"
        },
        "id": "437qekAxOPLj",
        "outputId": "c811f6c7-6a3f-463b-8ade-f0d376bb6e6e"
      },
      "execution_count": null,
      "outputs": [
        {
          "output_type": "stream",
          "name": "stdout",
          "text": [
            "b is equal to a\n"
          ]
        }
      ]
    },
    {
      "cell_type": "markdown",
      "source": [
        "# 3. Else Statement"
      ],
      "metadata": {
        "id": "o44ggxULQiC7"
      }
    },
    {
      "cell_type": "code",
      "source": [
        "a=200\n",
        "b=30\n",
        "if b>a:\n",
        "  print(\"b is greater that a\")\n",
        "elif a==b:\n",
        "  print(\"a and b are equalt\")\n",
        "else:\n",
        "  print(\"a is greater than b\")"
      ],
      "metadata": {
        "colab": {
          "base_uri": "https://localhost:8080/"
        },
        "id": "SihCuDQAQndb",
        "outputId": "7c7e2504-5b66-4059-cc4c-80f36f2d322b"
      },
      "execution_count": null,
      "outputs": [
        {
          "output_type": "stream",
          "name": "stdout",
          "text": [
            "a is greater than b\n"
          ]
        }
      ]
    },
    {
      "cell_type": "markdown",
      "source": [
        "4. Short Hand If Statement\n",
        "\n",
        "If you only have one statement to execute, one for if, and one for else, you can put it all on the same line as the if statement.\n",
        "Example:\n",
        "  if a>b:print(\"a is greater than b\")"
      ],
      "metadata": {
        "id": "_WVqFRZfSMVS"
      }
    },
    {
      "cell_type": "code",
      "source": [],
      "metadata": {
        "id": "-HeQkma7Sh8i"
      },
      "execution_count": null,
      "outputs": []
    },
    {
      "cell_type": "markdown",
      "source": [
        "#5.Short Hand If...Else Statement\n",
        "If you have only one statement to execute, one for if, and one for else, you can put it all on the same line:\n",
        "\n",
        "Example:\n",
        "a=2\n",
        "b=330\n",
        "print(\"A\"O) if a> b else print (\"B\")"
      ],
      "metadata": {
        "id": "NhbZTiU-fscK"
      }
    },
    {
      "cell_type": "markdown",
      "source": [
        "# And-both condition is true"
      ],
      "metadata": {
        "id": "ULkfcskxUBNr"
      }
    },
    {
      "cell_type": "code",
      "source": [
        "a= 200\n",
        "b= 33\n",
        "c=500\n",
        "if a>b, and c>a:\n",
        "  print (\"Ay least one of the condition is rure\")"
      ],
      "metadata": {
        "id": "WJnGFQhJUHbb",
        "outputId": "b2d20772-b7fa-4d44-c30d-bba4a3461bfa",
        "colab": {
          "base_uri": "https://localhost:8080/",
          "height": 143
        }
      },
      "execution_count": null,
      "outputs": [
        {
          "output_type": "error",
          "ename": "SyntaxError",
          "evalue": "invalid syntax (<ipython-input-1-ace5a15824da>, line 4)",
          "traceback": [
            "\u001b[0;36m  File \u001b[0;32m\"<ipython-input-1-ace5a15824da>\"\u001b[0;36m, line \u001b[0;32m4\u001b[0m\n\u001b[0;31m    if a>b, and c>a:\u001b[0m\n\u001b[0m          ^\u001b[0m\n\u001b[0;31mSyntaxError\u001b[0m\u001b[0;31m:\u001b[0m invalid syntax\n"
          ]
        }
      ]
    },
    {
      "cell_type": "markdown",
      "source": [
        "#Or-at-least one of the condtion is true"
      ],
      "metadata": {
        "id": "iowsbBZdVvBj"
      }
    },
    {
      "cell_type": "code",
      "source": [
        "a=200\n",
        "b=33\n",
        "c=5--"
      ],
      "metadata": {
        "id": "2PeiAaCXVz_y"
      },
      "execution_count": null,
      "outputs": []
    },
    {
      "cell_type": "markdown",
      "source": [
        "**Nesterd IF**"
      ],
      "metadata": {
        "id": "O_7S5U4dVKyh"
      }
    },
    {
      "cell_type": "code",
      "source": [
        "x=60\n",
        "if x> 10:\n",
        "  print(\"Above ten,\")\n",
        "  if x> 20:\n",
        "    print (\"and also above 20!\")\n",
        "    if x> 30:\n",
        "      print (\"and also above 30\")\n",
        "      if x> 40:\n",
        "        print (\"and also above 40\")\n",
        "        if x> 50:\n",
        "          print (\"and also above 50\")\n",
        "        else:\n",
        "          print (\"but not above 50\")\n",
        "      else:\n",
        "        print (\"but not above 40\")\n",
        "    else:\n",
        "      print (\"but not above 30\")\n",
        "  else:\n",
        "    print (\"but not above 20\")"
      ],
      "metadata": {
        "colab": {
          "base_uri": "https://localhost:8080/"
        },
        "id": "M4y7KEIRZeZT",
        "outputId": "07cf610f-e50d-4502-bab0-40a3c73cba9d"
      },
      "execution_count": null,
      "outputs": [
        {
          "output_type": "stream",
          "name": "stdout",
          "text": [
            "Above ten,\n",
            "and also above 20!\n",
            "and also above 30\n",
            "and also above 40\n",
            "and also above 5\n"
          ]
        }
      ]
    },
    {
      "cell_type": "markdown",
      "source": [
        "#Nested If\n",
        "executes two different codes depending upon whether the test expression is true or false. It also allows the user to check for multiple condition and execute different codes for more than two conditions."
      ],
      "metadata": {
        "id": "43jxbJ6igIHx"
      }
    },
    {
      "cell_type": "markdown",
      "source": [
        "#Example 1\n",
        "Write a program that deteremines if the input age is qualified to vote or not. The qualifying age is 18 years old and above"
      ],
      "metadata": {
        "id": "4bTncNK7UA3C"
      }
    },
    {
      "cell_type": "code",
      "source": [
        "print (\"Please enter your age\")\n",
        "age= int(input())\n",
        "\n",
        "if age>= 18:\n",
        "  print (\"You are of legal age to vote\")\n",
        "else:\n",
        "  print (\"You are not yet allowed to vote\")"
      ],
      "metadata": {
        "colab": {
          "base_uri": "https://localhost:8080/"
        },
        "id": "MNwo_seXbJgq",
        "outputId": "0b522f3f-d64f-408d-f719-71bf5f331114"
      },
      "execution_count": null,
      "outputs": [
        {
          "output_type": "stream",
          "name": "stdout",
          "text": [
            "Please enter your age\n",
            "10\n",
            "You are not yet allowed to vote\n"
          ]
        }
      ]
    },
    {
      "cell_type": "markdown",
      "source": [
        "#Example 2\n",
        "Write a program that determines if the input number is POSITIve, NEGATIVE, or ZERO"
      ],
      "metadata": {
        "id": "92eyVH9xcM6b"
      }
    },
    {
      "cell_type": "code",
      "source": [
        "print (\"Please enter a number\")\n",
        "num= int(input())\n",
        "\n",
        "if num>0:\n",
        "  print (\"The number is a positive number\")\n",
        "elif num==0:\n",
        "  print (\"You put in the number zero\")\n",
        "else:\n",
        "  print (\"The number is a negative number\")"
      ],
      "metadata": {
        "colab": {
          "base_uri": "https://localhost:8080/"
        },
        "id": "4FOeWF9Pcau9",
        "outputId": "c1ea4d36-4111-4de7-fb6b-862d7140b401"
      },
      "execution_count": null,
      "outputs": [
        {
          "output_type": "stream",
          "name": "stdout",
          "text": [
            "Please enter a number\n",
            "-5\n",
            "The number is a negative number\n"
          ]
        }
      ]
    },
    {
      "cell_type": "markdown",
      "source": [
        "#Example 3\n",
        "Write a program to determine if the grades are:\n",
        "\n",
        "*   grade>=70, \"Passed\"\n",
        "*   grade is 65 to 69, \"Remedial\"\n",
        "*   grade< 64, \"Failed\n",
        "*   *If grade is a negative number, it will not be accepted\n",
        "\n",
        "\n",
        "\n"
      ],
      "metadata": {
        "id": "WLwFOcV8dHUK"
      }
    },
    {
      "cell_type": "code",
      "source": [
        "print (\"Please enter the student's grade\")\n",
        "grade= int(input())\n",
        "\n",
        "if grade>= 70:\n",
        "  print (\"Passed\")\n",
        "elif grade>=65 and grade<=69:\n",
        "  print (\"Remedial\")\n",
        "elif grade<65 and grade>0:\n",
        "  print (\"Failed\")\n",
        "elif grade<0:\n",
        "  print (\"The entered value is not a valid grade\")"
      ],
      "metadata": {
        "colab": {
          "base_uri": "https://localhost:8080/"
        },
        "id": "0ZQoQp52du1D",
        "outputId": "a3d505c2-8422-4d51-d3d2-8199279b292a"
      },
      "execution_count": null,
      "outputs": [
        {
          "output_type": "stream",
          "name": "stdout",
          "text": [
            "Please enter the student's grade\n",
            "70\n",
            "Passed\n"
          ]
        }
      ]
    }
  ]
}