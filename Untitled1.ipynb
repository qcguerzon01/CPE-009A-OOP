{
  "nbformat": 4,
  "nbformat_minor": 0,
  "metadata": {
    "colab": {
      "provenance": [],
      "authorship_tag": "ABX9TyM28/btRNHyXnL13aDWIG+Z",
      "include_colab_link": true
    },
    "kernelspec": {
      "name": "python3",
      "display_name": "Python 3"
    },
    "language_info": {
      "name": "python"
    }
  },
  "cells": [
    {
      "cell_type": "markdown",
      "metadata": {
        "id": "view-in-github",
        "colab_type": "text"
      },
      "source": [
        "<a href=\"https://colab.research.google.com/github/qcguerzon01/CPE-009A-OOP/blob/main/Untitled1.ipynb\" target=\"_parent\"><img src=\"https://colab.research.google.com/assets/colab-badge.svg\" alt=\"Open In Colab\"/></a>"
      ]
    },
    {
      "cell_type": "code",
      "execution_count": null,
      "metadata": {
        "id": "A9G5SRIzuJ9n"
      },
      "outputs": [],
      "source": []
    },
    {
      "cell_type": "code",
      "source": [
        "class Shape:\n",
        "    def __init__(self, sides):\n",
        "        self._sides = sides\n",
        "\n",
        "    def display_sides(self):\n",
        "        print(f\"This shape has {self._sides} sides.\")\n",
        "\n",
        "class Triangle(Shape):\n",
        "    def __init__(self):\n",
        "        super().__init__(3)\n",
        "\n",
        "class Square(Shape):\n",
        "    def __init__(self):\n",
        "        super().__init__(4)\n",
        "\n",
        "class Pentagon(Shape):\n",
        "    def __init__(self):\n",
        "        super().__init__(5)\n",
        "\n",
        "class Hexagon(Shape):\n",
        "    def __init__(self):\n",
        "        super().__init__(6)\n",
        "\n",
        "class Octagon(Shape):\n",
        "    def __init__(self):\n",
        "        super().__init__(8)\n",
        "\n",
        "triangle = Triangle()\n",
        "square = Square()\n",
        "pentagon = Pentagon()\n",
        "\n",
        "shapes = [triangle, square, pentagon]\n",
        "for shape in shapes:\n",
        "    shape.display_sides()\n"
      ],
      "metadata": {
        "id": "eZeQW02HuM4P"
      },
      "execution_count": null,
      "outputs": []
    }
  ]
}