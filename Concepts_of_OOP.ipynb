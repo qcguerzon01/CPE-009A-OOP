{
  "nbformat": 4,
  "nbformat_minor": 0,
  "metadata": {
    "colab": {
      "provenance": [],
      "include_colab_link": true
    },
    "kernelspec": {
      "name": "python3",
      "display_name": "Python 3"
    },
    "language_info": {
      "name": "python"
    }
  },
  "cells": [
    {
      "cell_type": "markdown",
      "metadata": {
        "id": "view-in-github",
        "colab_type": "text"
      },
      "source": [
        "<a href=\"https://colab.research.google.com/github/qcguerzon01/CPE-009A-OOP/blob/main/Concepts_of_OOP.ipynb\" target=\"_parent\"><img src=\"https://colab.research.google.com/assets/colab-badge.svg\" alt=\"Open In Colab\"/></a>"
      ]
    },
    {
      "cell_type": "markdown",
      "source": [
        "#Goal od OOP\n",
        "to create \"objects\". An object is a collection of variables and functions that"
      ],
      "metadata": {
        "id": "tefFCUyKhg9F"
      }
    },
    {
      "cell_type": "markdown",
      "source": [
        "#OOP vs POP\n",
        "POP\n",
        "-requires certain procedure of steps\n",
        "-program is divided\n",
        "-examples: C, Pascal, Basic\n",
        "\n",
        "OOP\n",
        "-examples\n"
      ],
      "metadata": {
        "id": "g5F1A7PEhpUA"
      }
    },
    {
      "cell_type": "markdown",
      "source": [
        "#Class\n"
      ],
      "metadata": {
        "id": "U0Ht_QIXiADl"
      }
    },
    {
      "cell_type": "code",
      "source": [
        "class Car:\n",
        "  pass"
      ],
      "metadata": {
        "id": "_90O1jrXiB5u"
      },
      "execution_count": null,
      "outputs": []
    },
    {
      "cell_type": "markdown",
      "source": [
        "#Objects and Object Instantation"
      ],
      "metadata": {
        "id": "w8oIn29DicW8"
      }
    },
    {
      "cell_type": "code",
      "source": [
        "class Car:\n",
        "  pass\n",
        "\n",
        "obj1 = Car()\n",
        "print(obj1)\n"
      ],
      "metadata": {
        "colab": {
          "base_uri": "https://localhost:8080/",
          "height": 215
        },
        "id": "7nJ0eoOMifQs",
        "outputId": "8813bc20-ab28-43e0-c710-1eb90fb9ece0"
      },
      "execution_count": null,
      "outputs": [
        {
          "output_type": "stream",
          "name": "stdout",
          "text": [
            "<__main__.Car object at 0x79a861ab2200>\n"
          ]
        },
        {
          "output_type": "error",
          "ename": "NameError",
          "evalue": "name 'Bike' is not defined",
          "traceback": [
            "\u001b[0;31m---------------------------------------------------------------------------\u001b[0m",
            "\u001b[0;31mNameError\u001b[0m                                 Traceback (most recent call last)",
            "\u001b[0;32m<ipython-input-4-806bd0e8b8dd>\u001b[0m in \u001b[0;36m<cell line: 6>\u001b[0;34m()\u001b[0m\n\u001b[1;32m      4\u001b[0m \u001b[0mobj1\u001b[0m \u001b[0;34m=\u001b[0m \u001b[0mCar\u001b[0m\u001b[0;34m(\u001b[0m\u001b[0;34m)\u001b[0m\u001b[0;34m\u001b[0m\u001b[0;34m\u001b[0m\u001b[0m\n\u001b[1;32m      5\u001b[0m \u001b[0mprint\u001b[0m\u001b[0;34m(\u001b[0m\u001b[0mobj1\u001b[0m\u001b[0;34m)\u001b[0m\u001b[0;34m\u001b[0m\u001b[0;34m\u001b[0m\u001b[0m\n\u001b[0;32m----> 6\u001b[0;31m \u001b[0mobj2\u001b[0m \u001b[0;34m=\u001b[0m \u001b[0mBike\u001b[0m\u001b[0;34m(\u001b[0m\u001b[0;34m)\u001b[0m\u001b[0;34m\u001b[0m\u001b[0;34m\u001b[0m\u001b[0m\n\u001b[0m\u001b[1;32m      7\u001b[0m \u001b[0mprint\u001b[0m\u001b[0;34m(\u001b[0m\u001b[0mobj2\u001b[0m\u001b[0;34m)\u001b[0m\u001b[0;34m\u001b[0m\u001b[0;34m\u001b[0m\u001b[0m\n",
            "\u001b[0;31mNameError\u001b[0m: name 'Bike' is not defined"
          ]
        }
      ]
    },
    {
      "cell_type": "markdown",
      "source": [
        "#Class Constructor"
      ],
      "metadata": {
        "id": "5h5aeo5Xi-dV"
      }
    },
    {
      "cell_type": "code",
      "source": [
        "class Car: #class constructor\n",
        "  def __init__(self, name, color, mileage):\n",
        "    self.name = name #car Attributes\n",
        "    self.color = color\n",
        "    self.mileage = mileage\n",
        "\n",
        "obj1 = Car(\"BMW\", \"Red\", 1000) #object name\n",
        "print(obj1.name)\n",
        "print(obj1.color)\n",
        "print(obj1.mileage)\n",
        "\n",
        "obj2 = Car(\"Tesla\", \"Black\", 1500)\n",
        "print(obj2.color)\n"
      ],
      "metadata": {
        "colab": {
          "base_uri": "https://localhost:8080/"
        },
        "id": "Is4uUJmpjBAN",
        "outputId": "9e5b579a-73d1-4c18-90a5-183873395442"
      },
      "execution_count": null,
      "outputs": [
        {
          "output_type": "stream",
          "name": "stdout",
          "text": [
            "BMW\n",
            "Red\n",
            "1000\n",
            "Black\n"
          ]
        }
      ]
    },
    {
      "cell_type": "markdown",
      "source": [
        "#Application 1\n",
        "Write a Python program that prints your student information with the following attributes: name, age, course, and section."
      ],
      "metadata": {
        "id": "9k4AN3zmmyEf"
      }
    },
    {
      "cell_type": "code",
      "source": [
        "class Student: #class constructor\n",
        "  def __init__(self, name, age, course, section):\n",
        "    self.name = name #student Attributes\n",
        "    self.age = age\n",
        "    self.course = course\n",
        "    self.section = section\n",
        "\n",
        "obj1 = Student(\"Zack\", \"mag na19 na bukas\", \"OOP\", \"CPE12s6\") #object name\n",
        "print(\"The student's name is\" , obj1.name)\n",
        "print(obj1.age)\n",
        "print(obj1.course)\n",
        "print(obj1.section)\n"
      ],
      "metadata": {
        "colab": {
          "base_uri": "https://localhost:8080/"
        },
        "id": "V_kYzf0Vm_Wu",
        "outputId": "31451194-b831-4047-f6b8-ec0a73317782"
      },
      "execution_count": null,
      "outputs": [
        {
          "output_type": "stream",
          "name": "stdout",
          "text": [
            "The student's name is Zack\n",
            "mag na19 na bukas\n",
            "OOP\n",
            "CPE12s6\n"
          ]
        }
      ]
    },
    {
      "cell_type": "code",
      "source": [
        "#trial with user input\n"
      ],
      "metadata": {
        "id": "D-mDgZNrq2HH"
      },
      "execution_count": null,
      "outputs": []
    },
    {
      "cell_type": "markdown",
      "source": [
        "#Class Methods"
      ],
      "metadata": {
        "id": "avDL4cFkkCGu"
      }
    },
    {
      "cell_type": "code",
      "source": [
        "class Car:\n",
        "  car_type = \"Sedan\"\n",
        "\n",
        "  def __init__(self, name, mileage):\n",
        "    self.name = name\n",
        "    self.mileage = mileage\n",
        "\n",
        "  def description(self):\n",
        "    return \"The {self.name} car gives the mileage of (self.mileage) km/l\"\n",
        "\n",
        "  def max_speed(self, speed):\n",
        "    return \"The {self.name} runs at the maximum speed of {speed}\""
      ],
      "metadata": {
        "id": "SYNL40rMkENG"
      },
      "execution_count": null,
      "outputs": []
    }
  ]
}